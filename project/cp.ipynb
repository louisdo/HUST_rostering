{
 "metadata": {
  "language_info": {
   "codemirror_mode": {
    "name": "ipython",
    "version": 3
   },
   "file_extension": ".py",
   "mimetype": "text/x-python",
   "name": "python",
   "nbconvert_exporter": "python",
   "pygments_lexer": "ipython3",
   "version": "3.8.3"
  },
  "orig_nbformat": 2,
  "kernelspec": {
   "name": "python383jvsc74a57bd0ef7f9a8012d9131766e31894c279374cc63c73121ed4db3b9e67a294a4bf0e74",
   "display_name": "Python 3.8.3 64-bit ('base': conda)"
  }
 },
 "nbformat": 4,
 "nbformat_minor": 2,
 "cells": [
  {
   "cell_type": "code",
   "execution_count": 1,
   "metadata": {},
   "outputs": [],
   "source": [
    "def input(path):\n",
    "    with open(path) as f:\n",
    "        firstline = f.readline().split()\n",
    "        N = int(firstline[0])\n",
    "        D = int(firstline[1])\n",
    "        alpha = int(firstline[2])\n",
    "        beta = int(firstline[3])\n",
    "\n",
    "        person_day_off = []\n",
    "        for i in range(N):\n",
    "            line = f.readline()\n",
    "            person_day_off.append([int(day_off) for day_off in line.split()[:-1]])\n",
    "\n",
    "        return N, D, alpha, beta, person_day_off"
   ]
  },
  {
   "cell_type": "code",
   "execution_count": 31,
   "metadata": {},
   "outputs": [
    {
     "output_type": "stream",
     "name": "stdout",
     "text": [
      "9 5 1 3\n[[], [4], [], [], [], [], [], [5], []]\n"
     ]
    }
   ],
   "source": [
    "path = 'miniproject-18\\data.txt'\n",
    "N, D, alpha, beta, person_day_off = input(path)\n",
    "\n",
    "print(N, D, alpha, beta)\n",
    "print(person_day_off)"
   ]
  },
  {
   "source": [
    "# MIPS"
   ],
   "cell_type": "markdown",
   "metadata": {}
  },
  {
   "cell_type": "code",
   "execution_count": 32,
   "metadata": {},
   "outputs": [],
   "source": [
    "from ortools.linear_solver import pywraplp"
   ]
  },
  {
   "cell_type": "code",
   "execution_count": 33,
   "metadata": {},
   "outputs": [],
   "source": [
    "solver = pywraplp.Solver.CreateSolver('CBC')\n",
    "INF = solver.infinity()\n",
    "big_num = 1e6"
   ]
  },
  {
   "cell_type": "code",
   "execution_count": 34,
   "metadata": {},
   "outputs": [],
   "source": [
    "x = [[[solver.IntVar(0, 1, 'x[' + str(person) + '][' + str(day) + '][' + str(shift) + ']') for shift in range(5)] for day in range(D)] for person in range(N)]\n",
    "\n",
    "y = solver.IntVar(0, D, 'y')"
   ]
  },
  {
   "cell_type": "code",
   "execution_count": 41,
   "metadata": {},
   "outputs": [],
   "source": [
    "for day in range(D):\n",
    "    for person in range(N):\n",
    "        c = solver.Constraint(1, 1)\n",
    "        for shift in range(5):\n",
    "            c.SetCoefficient(x[person][day][shift], 1)\n",
    "\n",
    "for day in range(D):\n",
    "    for shift in range(5):\n",
    "        c = solver.Constraint(alpha, beta)\n",
    "        for person in range(N):\n",
    "            c.SetCoefficient(x[person][day][shift], 1)\n",
    "\n",
    "for person in range(N):\n",
    "        c = solver.Constraint(-INF, 0)\n",
    "        for day in range(D):\n",
    "            c.SetCoefficient(x[person][day][3], 1)\n",
    "            c.SetCoefficient(y, -1)\n",
    "\n",
    "for day in range(D - 1):\n",
    "    for person in range(N):\n",
    "            c1 = solver.Constraint(-INF, big_num - 1)\n",
    "            c2 = solver.Constraint(-INF, big_num + 1)\n",
    "            c1.SetCoefficient(x[person][day][3], big_num)\n",
    "            c1.SetCoefficient(x[person][day + 1][4], -1)\n",
    "            c2.SetCoefficient(x[person][day][3], big_num)\n",
    "            c2.SetCoefficient(x[person][day + 1][4], 1)\n",
    "\n",
    "for person, list_day_off in enumerate(person_day_off):\n",
    "    for day in range(D):\n",
    "        if day + 1 in list_day_off:\n",
    "            solver.add(x[person][day][4] == 1)\n",
    "        else:\n",
    "            solver.add(x[person][day][4] == 0)"
   ]
  },
  {
   "cell_type": "code",
   "execution_count": 42,
   "metadata": {},
   "outputs": [],
   "source": [
    "obj = solver.Objective()\n",
    "obj.SetCoefficient(y, -1)\n",
    "obj.SetMaximization()"
   ]
  },
  {
   "cell_type": "code",
   "execution_count": 43,
   "metadata": {},
   "outputs": [
    {
     "output_type": "stream",
     "name": "stdout",
     "text": [
      "2.0\n1 2 1 2 0 \n3 _ 3 _ 2 \n0 2 1 0 3 \n0 1 0 2 2 \n0 1 1 0 1 \n2 0 2 0 1 \n1 2 0 2 2 \n_ 3 _ 3 _ \n1 0 2 1 1 \n"
     ]
    }
   ],
   "source": [
    "result_status = solver.Solve()\n",
    "\n",
    "# The problem has an optimal solution.\n",
    "\n",
    "assert result_status == pywraplp.Solver.OPTIMAL\n",
    "print(- solver.Objective().Value())\n",
    "\n",
    "for person in range(N):\n",
    "    for day in range(D):\n",
    "        for shift in range(5):\n",
    "            if x[person][day][shift].solution_value() == 1:\n",
    "                print(shift if shift != 4 else '_', end = ' ')\n",
    "    print()"
   ]
  },
  {
   "source": [
    "# CP"
   ],
   "cell_type": "markdown",
   "metadata": {}
  },
  {
   "source": [
    "from ortools.sat.python import cp_model"
   ],
   "cell_type": "code",
   "metadata": {},
   "execution_count": 1,
   "outputs": []
  },
  {
   "cell_type": "code",
   "execution_count": 2,
   "metadata": {},
   "outputs": [],
   "source": [
    "model = cp_model.CpModel()"
   ]
  },
  {
   "cell_type": "code",
   "execution_count": 8,
   "metadata": {},
   "outputs": [
    {
     "output_type": "error",
     "ename": "NameError",
     "evalue": "name 'var_upper_bound' is not defined",
     "traceback": [
      "\u001b[1;31m---------------------------------------------------------------------------\u001b[0m",
      "\u001b[1;31mNameError\u001b[0m                                 Traceback (most recent call last)",
      "\u001b[1;32m<ipython-input-8-7c23369f9b7c>\u001b[0m in \u001b[0;36m<module>\u001b[1;34m\u001b[0m\n\u001b[0;32m      1\u001b[0m \u001b[0mx\u001b[0m \u001b[1;33m=\u001b[0m \u001b[1;33m[\u001b[0m\u001b[1;33m[\u001b[0m\u001b[1;33m[\u001b[0m\u001b[0mmodel\u001b[0m\u001b[1;33m.\u001b[0m\u001b[0mNewIntVar\u001b[0m\u001b[1;33m(\u001b[0m\u001b[1;36m0\u001b[0m\u001b[1;33m,\u001b[0m \u001b[1;36m1\u001b[0m\u001b[1;33m,\u001b[0m \u001b[1;34m'x['\u001b[0m \u001b[1;33m+\u001b[0m \u001b[0mstr\u001b[0m\u001b[1;33m(\u001b[0m\u001b[0mperson\u001b[0m\u001b[1;33m)\u001b[0m \u001b[1;33m+\u001b[0m \u001b[1;34m']['\u001b[0m \u001b[1;33m+\u001b[0m \u001b[0mstr\u001b[0m\u001b[1;33m(\u001b[0m\u001b[0mday\u001b[0m\u001b[1;33m)\u001b[0m \u001b[1;33m+\u001b[0m \u001b[1;34m']['\u001b[0m \u001b[1;33m+\u001b[0m \u001b[0mstr\u001b[0m\u001b[1;33m(\u001b[0m\u001b[0mshift\u001b[0m\u001b[1;33m)\u001b[0m \u001b[1;33m+\u001b[0m \u001b[1;34m']'\u001b[0m\u001b[1;33m)\u001b[0m \u001b[1;32mfor\u001b[0m \u001b[0mshift\u001b[0m \u001b[1;32min\u001b[0m \u001b[0mrange\u001b[0m\u001b[1;33m(\u001b[0m\u001b[1;36m5\u001b[0m\u001b[1;33m)\u001b[0m\u001b[1;33m]\u001b[0m \u001b[1;32mfor\u001b[0m \u001b[0mday\u001b[0m \u001b[1;32min\u001b[0m \u001b[0mrange\u001b[0m\u001b[1;33m(\u001b[0m\u001b[0mD\u001b[0m\u001b[1;33m)\u001b[0m\u001b[1;33m]\u001b[0m \u001b[1;32mfor\u001b[0m \u001b[0mperson\u001b[0m \u001b[1;32min\u001b[0m \u001b[0mrange\u001b[0m\u001b[1;33m(\u001b[0m\u001b[0mN\u001b[0m\u001b[1;33m)\u001b[0m\u001b[1;33m]\u001b[0m\u001b[1;33m\u001b[0m\u001b[1;33m\u001b[0m\u001b[0m\n\u001b[0;32m      2\u001b[0m \u001b[1;33m\u001b[0m\u001b[0m\n\u001b[1;32m----> 3\u001b[1;33m \u001b[0my\u001b[0m \u001b[1;33m=\u001b[0m \u001b[0mmodel\u001b[0m\u001b[1;33m.\u001b[0m\u001b[0mNewIntVar\u001b[0m\u001b[1;33m(\u001b[0m\u001b[1;36m0\u001b[0m\u001b[1;33m,\u001b[0m \u001b[0mvar_upper_bound\u001b[0m\u001b[1;33m,\u001b[0m \u001b[1;34m'y'\u001b[0m\u001b[1;33m)\u001b[0m\u001b[1;33m\u001b[0m\u001b[1;33m\u001b[0m\u001b[0m\n\u001b[0m",
      "\u001b[1;31mNameError\u001b[0m: name 'var_upper_bound' is not defined"
     ]
    }
   ],
   "source": [
    "x = [[[model.NewIntVar(0, 1, 'x[' + str(person) + '][' + str(day) + '][' + str(shift) + ']') for shift in range(5)] for day in range(D)] for person in range(N)]\n",
    "\n",
    "y = model.NewIntVar(0, var, 'y')"
   ]
  },
  {
   "cell_type": "code",
   "execution_count": null,
   "metadata": {},
   "outputs": [],
   "source": [
    "for "
   ]
  }
 ]
}