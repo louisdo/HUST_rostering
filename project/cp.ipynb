{
 "metadata": {
  "language_info": {
   "codemirror_mode": {
    "name": "ipython",
    "version": 3
   },
   "file_extension": ".py",
   "mimetype": "text/x-python",
   "name": "python",
   "nbconvert_exporter": "python",
   "pygments_lexer": "ipython3",
   "version": "3.8.3"
  },
  "orig_nbformat": 2,
  "kernelspec": {
   "name": "python383jvsc74a57bd0ef7f9a8012d9131766e31894c279374cc63c73121ed4db3b9e67a294a4bf0e74",
   "display_name": "Python 3.8.3 64-bit ('base': conda)"
  }
 },
 "nbformat": 4,
 "nbformat_minor": 2,
 "cells": [
  {
   "cell_type": "code",
   "execution_count": 1,
   "metadata": {},
   "outputs": [],
   "source": [
    "def input(path):\n",
    "    with open(path) as f:\n",
    "        firstline = f.readline().split()\n",
    "        N = int(firstline[0])\n",
    "        D = int(firstline[1])\n",
    "        alpha = int(firstline[2])\n",
    "        beta = int(firstline[3])\n",
    "\n",
    "        person_day_off = []\n",
    "        for i in range(N):\n",
    "            line = f.readline()\n",
    "            person_day_off.append([int(day_off) for day_off in line.split()[:-1]])\n",
    "\n",
    "        return N, D, alpha, beta, person_day_off"
   ]
  },
  {
   "cell_type": "code",
   "execution_count": 2,
   "metadata": {},
   "outputs": [
    {
     "output_type": "stream",
     "name": "stdout",
     "text": [
      "9 5 1 3\n[[], [4], [], [], [], [], [], [5], []]\n"
     ]
    }
   ],
   "source": [
    "path = 'dataset\\data.txt'\n",
    "N, D, alpha, beta, person_day_off = input(path)\n",
    "\n",
    "print(N, D, alpha, beta)\n",
    "print(person_day_off)"
   ]
  },
  {
   "source": [
    "# CP"
   ],
   "cell_type": "markdown",
   "metadata": {}
  },
  {
   "source": [
    "from ortools.sat.python import cp_model\n",
    "import time"
   ],
   "cell_type": "code",
   "metadata": {},
   "execution_count": 86,
   "outputs": []
  },
  {
   "cell_type": "code",
   "execution_count": 87,
   "metadata": {},
   "outputs": [],
   "source": [
    "model = cp_model.CpModel()"
   ]
  },
  {
   "cell_type": "code",
   "execution_count": 91,
   "metadata": {},
   "outputs": [],
   "source": [
    "x = [[model.NewIntVar(0, 4, 'x[' + str(person) + '][' + str(day) + ']') for day in range(D)] for person in range(N)]\n",
    "y = model.NewIntVar(0, D, 'y')"
   ]
  },
  {
   "cell_type": "code",
   "execution_count": 92,
   "metadata": {},
   "outputs": [],
   "source": [
    "for day in range(D):\n",
    "    for shift in range(4):\n",
    "        model.Add(sum(1 for person in range(N) if x[person][day] == shift) <= beta)\n",
    "        model.Add(sum(1 for person in range(N) if x[person][day] == shift) >= alpha)\n",
    "for person in range(N):\n",
    "    model.Add(sum(1 for day in range(D) if x[person][day] == 3) <= y)\n",
    "\n",
    "for day in range(D - 1):\n",
    "    for person in range(N):\n",
    "        b = model.NewBoolVar('b')\n",
    "        model.Add(x[person][day] == 3).OnlyEnforceIf(b)\n",
    "        model.Add(x[person][day] != 3).OnlyEnforceIf(b.Not())\n",
    "        model.Add(x[person][day + 1] == 4).OnlyEnforceIf(b)\n",
    "\n",
    "for person, list_day_off in enumerate(person_day_off):\n",
    "    for day_off in list_day_off:\n",
    "        model.Add(x[person][day_off - 1] == 4)"
   ]
  },
  {
   "cell_type": "code",
   "execution_count": 93,
   "metadata": {},
   "outputs": [
    {
     "output_type": "error",
     "ename": "AssertionError",
     "evalue": "",
     "traceback": [
      "\u001b[1;31m---------------------------------------------------------------------------\u001b[0m",
      "\u001b[1;31mAssertionError\u001b[0m                            Traceback (most recent call last)",
      "\u001b[1;32m<ipython-input-93-6044e9614e8e>\u001b[0m in \u001b[0;36m<module>\u001b[1;34m\u001b[0m\n\u001b[0;32m      7\u001b[0m \u001b[0mresult_status\u001b[0m \u001b[1;33m=\u001b[0m \u001b[0mcp_solver\u001b[0m\u001b[1;33m.\u001b[0m\u001b[0mSolve\u001b[0m\u001b[1;33m(\u001b[0m\u001b[0mmodel\u001b[0m\u001b[1;33m)\u001b[0m\u001b[1;33m\u001b[0m\u001b[1;33m\u001b[0m\u001b[0m\n\u001b[0;32m      8\u001b[0m \u001b[0mend\u001b[0m \u001b[1;33m=\u001b[0m \u001b[0mtime\u001b[0m\u001b[1;33m.\u001b[0m\u001b[0mtime\u001b[0m\u001b[1;33m(\u001b[0m\u001b[1;33m)\u001b[0m\u001b[1;33m\u001b[0m\u001b[1;33m\u001b[0m\u001b[0m\n\u001b[1;32m----> 9\u001b[1;33m \u001b[1;32massert\u001b[0m \u001b[0mresult_status\u001b[0m \u001b[1;33m==\u001b[0m \u001b[0mcp_model\u001b[0m\u001b[1;33m.\u001b[0m\u001b[0mOPTIMAL\u001b[0m\u001b[1;33m\u001b[0m\u001b[1;33m\u001b[0m\u001b[0m\n\u001b[0m\u001b[0;32m     10\u001b[0m \u001b[0mprint\u001b[0m\u001b[1;33m(\u001b[0m\u001b[1;34m'optimal value = '\u001b[0m\u001b[1;33m,\u001b[0m \u001b[0mcp_solver\u001b[0m\u001b[1;33m.\u001b[0m\u001b[0mObjectiveValue\u001b[0m\u001b[1;33m(\u001b[0m\u001b[1;33m)\u001b[0m\u001b[1;33m)\u001b[0m\u001b[1;33m\u001b[0m\u001b[1;33m\u001b[0m\u001b[0m\n\u001b[0;32m     11\u001b[0m \u001b[0mprint\u001b[0m\u001b[1;33m(\u001b[0m\u001b[1;34m'elapsed time = '\u001b[0m\u001b[1;33m,\u001b[0m \u001b[0mend\u001b[0m \u001b[1;33m-\u001b[0m \u001b[0mstart\u001b[0m\u001b[1;33m)\u001b[0m\u001b[1;33m\u001b[0m\u001b[1;33m\u001b[0m\u001b[0m\n",
      "\u001b[1;31mAssertionError\u001b[0m: "
     ]
    }
   ],
   "source": [
    "model.Minimize(y)\n",
    "#solver\n",
    "cp_solver = cp_model.CpSolver()\n",
    "\n",
    "#solve\n",
    "start = time.time()\n",
    "result_status = cp_solver.Solve(model)\n",
    "end = time.time()\n",
    "assert result_status == cp_model.OPTIMAL\n",
    "print('optimal value = ', cp_solver.ObjectiveValue())\n",
    "print('elapsed time = ', end - start)\n",
    "\n",
    "for person in range(N):\n",
    "    for day in range(D):\n",
    "        print(cp_solver.Value(x[person][day]), end = ' ')\n",
    "    print()"
   ]
  },
  {
   "cell_type": "code",
   "execution_count": null,
   "metadata": {},
   "outputs": [],
   "source": []
  }
 ]
}