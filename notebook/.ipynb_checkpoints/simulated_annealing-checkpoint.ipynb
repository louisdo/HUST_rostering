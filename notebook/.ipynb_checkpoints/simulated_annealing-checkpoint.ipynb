{
 "cells": [
  {
   "cell_type": "code",
   "execution_count": 1,
   "id": "worth-documentary",
   "metadata": {},
   "outputs": [],
   "source": [
    "import math, random\n",
    "import numpy as np\n",
    "from tqdm import tqdm"
   ]
  },
  {
   "cell_type": "code",
   "execution_count": 13,
   "id": "otherwise-purple",
   "metadata": {},
   "outputs": [],
   "source": [
    "def init(params: dict):\n",
    "    return np.zeros((params[\"N\"], params[\"D\"]), dtype = int), np.zeros((params[\"D\"], 5))\n",
    "\n",
    "\n",
    "def constraint_error(shift_count: np.array, d: int, s: int, params: dict):\n",
    "    res = 0\n",
    "    if params[\"alpha\"] <= shift_count[d, s] <= params[\"beta\"]: return res\n",
    "    return max(abs(shift_count[d, s] - params[\"alpha\"]), abs(shift_count[d, s] - params[\"beta\"]))\n",
    "\n",
    "\n",
    "def check(data:np.array, shift_count: np.array, params: dict):\n",
    "    for n in range(params[\"N\"]):\n",
    "        for d in range(params[\"D\"] - 1):\n",
    "            if data[n][d] == 4 and data[n][d + 1] != 0: return False\n",
    "\n",
    "    for d in range(params[\"D\"]):\n",
    "        for s in range(1, 5):\n",
    "            ce = constraint_error(shift_count, d, s, params)\n",
    "            if ce > 0: return False\n",
    "    return True\n",
    "\n",
    "def objective(data: np.array):\n",
    "    night_shift = data == 4\n",
    "    night_shift = np.sum(night_shift, axis = 1)\n",
    "    return np.max(night_shift)\n",
    "\n",
    "\n",
    "def f(data: np.array, shift_count: np.array, n: int, d: int, s: int, params: dict):\n",
    "    night_shifts_score = objective(data)\n",
    "    error_score = constraint_error(shift_count, d, s, params)\n",
    "    return error_score - night_shifts_score\n",
    "\n",
    "\n",
    "leaky_relu = lambda x: np.where(x > 0, x, x * 0.01)\n",
    "\n",
    "EPS = 0.0001\n",
    "def choose(fs: dict, avail_shifts: list):\n",
    "    if len(avail_shifts) == 1: return avail_shifts[0]\n",
    "    probs = np.array([fs[s] for s in avail_shifts])\n",
    "    probs -= np.min(probs)\n",
    "    \n",
    "    #print(probs)\n",
    "    norm_fact = np.sum(probs)\n",
    "    if norm_fact == 0: return random.choice(avail_shifts)\n",
    "    normed_probs = probs / norm_fact\n",
    "    try:\n",
    "        return np.random.choice(avail_shifts, 1, p=normed_probs)[0]\n",
    "    except: print(probs)\n",
    "    \n",
    "\n",
    "\n",
    "def optimize(params: dict, F: list, num_reps: int):\n",
    "    data, shift_count = init(params)\n",
    "    \n",
    "    iteration = 0\n",
    "    saved_n = None\n",
    "    saved_d = None\n",
    "    BEST = 1e8\n",
    "    BEST_SCHEDULE = None\n",
    "    with tqdm(total = num_reps) as pbar:\n",
    "        while iteration < num_reps:\n",
    "            if saved_n is not None and saved_d is not None and saved_d < params[\"D\"] - 1:\n",
    "                n = saved_n\n",
    "                d = saved_d + 1\n",
    "                #print(\"yo\", data[n, d - 1], d - 1)\n",
    "            else: \n",
    "                n = random.choice(range(params[\"N\"]))\n",
    "                d = random.choice(range(params[\"D\"]))\n",
    "            \n",
    "            if d in F[n]: \n",
    "                saved_n = None\n",
    "                saved_d = None\n",
    "                continue\n",
    "                \n",
    "            avail_shifts = range(0, 5)\n",
    "            if d - 1 >= 0 and data[n, d - 1] == 4: \n",
    "                #print(\"okay\")\n",
    "                avail_shifts = [0]\n",
    "            fs = {s: 0 for s in avail_shifts}\n",
    "            norm_fact = 0\n",
    "            for s in avail_shifts:\n",
    "                fs[s] = f(data, shift_count, n, d, s, params)\n",
    "\n",
    "            chosen_shift = choose(fs, avail_shifts)\n",
    "            #print(fs, n, d, chosen_shift)\n",
    "            if chosen_shift == 4:\n",
    "                saved_n = n\n",
    "                saved_d = d\n",
    "            else: \n",
    "                saved_n = None\n",
    "                saved_d = None\n",
    "                \n",
    "            prev_shift = data[n, d]\n",
    "            if shift_count[d, prev_shift] > 0: shift_count[d, prev_shift] -= 1\n",
    "            data[n, d] = chosen_shift\n",
    "            shift_count[d, chosen_shift] += 1\n",
    "\n",
    "\n",
    "            if check(data, shift_count, params):\n",
    "                #print(\"yeah\")\n",
    "                score = objective(data)\n",
    "                if score < BEST: \n",
    "                    print(\"found solution, score of solution:\", score)\n",
    "                    BEST = score\n",
    "                    BEST_SCHEDULE = data.copy()\n",
    "                    if BEST == 1: \n",
    "                        print(\"found best possible solution, early stopped\")\n",
    "                        break\n",
    "\n",
    "            iteration += 1\n",
    "            pbar.update()\n",
    "        \n",
    "    return BEST, BEST_SCHEDULE"
   ]
  },
  {
   "cell_type": "code",
   "execution_count": 14,
   "id": "backed-simpson",
   "metadata": {},
   "outputs": [
    {
     "name": "stderr",
     "output_type": "stream",
     "text": [
      "  0%|                                                                           | 106/100000 [00:00<00:52, 1896.49it/s]"
     ]
    },
    {
     "name": "stdout",
     "output_type": "stream",
     "text": [
      "found solution, score of solution: 1\n",
      "found best possible solution, early stopped\n"
     ]
    },
    {
     "name": "stderr",
     "output_type": "stream",
     "text": [
      "\n"
     ]
    }
   ],
   "source": [
    "params = {\"N\": 9, \"D\": 5, \"alpha\": 1, \"beta\": 3}\n",
    "F = [\n",
    "    [],\n",
    "    [3],\n",
    "    [],\n",
    "    [],\n",
    "    [],\n",
    "    [],\n",
    "    [],\n",
    "    [4],\n",
    "    [],\n",
    "]\n",
    "test = optimize(params, F, 100000)"
   ]
  },
  {
   "cell_type": "code",
   "execution_count": 15,
   "id": "greek-coordinate",
   "metadata": {},
   "outputs": [
    {
     "data": {
      "text/plain": [
       "(1,\n",
       " array([[3, 1, 0, 0, 1],\n",
       "        [0, 0, 0, 0, 2],\n",
       "        [2, 0, 3, 3, 0],\n",
       "        [2, 4, 0, 0, 3],\n",
       "        [4, 0, 2, 2, 0],\n",
       "        [3, 3, 1, 3, 0],\n",
       "        [1, 0, 0, 4, 0],\n",
       "        [2, 0, 4, 0, 0],\n",
       "        [0, 2, 3, 1, 4]]))"
      ]
     },
     "execution_count": 15,
     "metadata": {},
     "output_type": "execute_result"
    }
   ],
   "source": [
    "test"
   ]
  },
  {
   "cell_type": "code",
   "execution_count": null,
   "id": "stone-dealing",
   "metadata": {},
   "outputs": [],
   "source": []
  },
  {
   "cell_type": "code",
   "execution_count": null,
   "id": "blond-frequency",
   "metadata": {},
   "outputs": [],
   "source": []
  }
 ],
 "metadata": {
  "kernelspec": {
   "display_name": "venv",
   "language": "python",
   "name": "venv"
  },
  "language_info": {
   "codemirror_mode": {
    "name": "ipython",
    "version": 3
   },
   "file_extension": ".py",
   "mimetype": "text/x-python",
   "name": "python",
   "nbconvert_exporter": "python",
   "pygments_lexer": "ipython3",
   "version": "3.6.6"
  }
 },
 "nbformat": 4,
 "nbformat_minor": 5
}
