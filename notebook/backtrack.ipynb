{
 "cells": [
  {
   "cell_type": "code",
   "execution_count": 1,
   "id": "collaborative-laundry",
   "metadata": {},
   "outputs": [],
   "source": [
    "import numpy as np"
   ]
  },
  {
   "cell_type": "code",
   "execution_count": 2,
   "id": "minor-scottish",
   "metadata": {},
   "outputs": [],
   "source": [
    "def init(params: dict):\n",
    "    return np.zeros((params[\"N\"], params[\"D\"]), dtype = int)\n",
    "\n",
    "def check(data: np.array, params: dict):\n",
    "    for n in range(params[\"N\"]):\n",
    "        for d in range(params[\"D\"] - 1):\n",
    "            if data[n][d] == 4 and data[n][d + 1] != 0: return False\n",
    "    return True\n",
    "\n",
    "def check_compute_score(shift_count):\n",
    "    for d in range(params[\"D\"]):\n",
    "        for index in range(1, 5):\n",
    "            if shift_count[d, index] > params[\"beta\"] or shift_count[d, index] < params[\"alpha\"]: return False\n",
    "    return True\n",
    "\n",
    "def check_constrain_day(shift_count, d):\n",
    "    for index in range(1, 5):\n",
    "        if shift_count[d, index] > params[\"beta\"] or shift_count[d, index] < params[\"alpha\"]: return False\n",
    "    return True\n",
    "\n",
    "def objective(data: np.array, params: dict):\n",
    "    max_night_shifts = -1\n",
    "    for n in range(params[\"N\"]):\n",
    "        night_shifts = 0\n",
    "        for d in range(params[\"D\"]):\n",
    "            if data[n,d] == 4: night_shifts += 1\n",
    "        max_night_shifts = max(night_shifts, max_night_shifts)\n",
    "    return max_night_shifts"
   ]
  },
  {
   "cell_type": "code",
   "execution_count": 3,
   "id": "mediterranean-tsunami",
   "metadata": {},
   "outputs": [],
   "source": [
    "BEST = [1e8]\n",
    "BEST_SCHED = [None]"
   ]
  },
  {
   "cell_type": "code",
   "execution_count": 18,
   "id": "polished-devices",
   "metadata": {},
   "outputs": [],
   "source": [
    "def get_next_index(n, d, params):\n",
    "    if n < params[\"N\"] - 1 and d < params[\"D\"] - 1: return n + 1, d\n",
    "    elif n == params[\"N\"] - 1 and d < params[\"D\"] - 1: return 0, d + 1\n",
    "    else: return None\n",
    "\n",
    "\n",
    "def GO(data: np.array, shift_count: np.array, F: list, params: dict, d_index: int):\n",
    "    #print(data)\n",
    "    #print()\n",
    "    if check_compute_score(shift_count):\n",
    "        score = objective(data, params)\n",
    "        if score < BEST[0]:\n",
    "            BEST_SCHED[0] = data.copy()\n",
    "            BEST[0] = score\n",
    "            #print(shift_count)\n",
    "            print(score)\n",
    "            \n",
    "    day_ranges = [d_index]\n",
    "    if d_index < params[\"D\"] - 1: day_ranges.append(d_index + 1)\n",
    "    \n",
    "    for d in day_ranges:\n",
    "        #if check_constrain_day(shift_count, d): continue\n",
    "        for n in range(params[\"N\"]):\n",
    "            if d in F[n]: continue\n",
    "            if data[n, d] != 0: continue\n",
    "            if d > 0 and data[n, d - 1] == 4:\n",
    "                day_ranges = [0]\n",
    "            else: day_ranges = range(1, 5)\n",
    "            for s in day_ranges:\n",
    "                if s != 0 and shift_count[d, s] >= int(params[\"N\"] / 4) + 1: continue\n",
    "                data[n, d] = s\n",
    "                shift_count[d, s] += 1\n",
    "                try:\n",
    "                    GO(data, shift_count, F, params, d)\n",
    "                except RecursionError:\n",
    "                    shift_count[d, s] -= 1\n",
    "                    #print(\"max recursion depth exceeded, retry another way\")\n",
    "                    return\n",
    "                shift_count[d, s] -= 1\n",
    "                data[n, d] = 0\n",
    "    return"
   ]
  },
  {
   "cell_type": "code",
   "execution_count": 22,
   "id": "infrared-married",
   "metadata": {},
   "outputs": [],
   "source": [
    "params = {\"N\": 4, \"D\": 2, \"alpha\": 1, \"beta\": 2}\n",
    "data = init(params)\n",
    "shift_count = np.zeros((params[\"D\"], 5))\n",
    "F = [\n",
    "    [],\n",
    "    [3],\n",
    "    [],\n",
    "    [],\n",
    "    [],\n",
    "    [0]\n",
    "]"
   ]
  },
  {
   "cell_type": "code",
   "execution_count": 23,
   "id": "unexpected-pregnancy",
   "metadata": {},
   "outputs": [
    {
     "name": "stderr",
     "output_type": "stream",
     "text": [
      "\n",
      "KeyboardInterrupt\n",
      "\n"
     ]
    }
   ],
   "source": [
    "BEST = [1e8]\n",
    "BEST_SCHED = [None]\n",
    "GO(data, shift_count, F, params, 0)"
   ]
  },
  {
   "cell_type": "code",
   "execution_count": 21,
   "id": "accessory-chamber",
   "metadata": {},
   "outputs": [
    {
     "data": {
      "text/plain": [
       "[array([[1],\n",
       "        [2],\n",
       "        [3],\n",
       "        [4]])]"
      ]
     },
     "execution_count": 21,
     "metadata": {},
     "output_type": "execute_result"
    }
   ],
   "source": [
    "BEST_SCHED"
   ]
  },
  {
   "cell_type": "code",
   "execution_count": 8,
   "id": "successful-increase",
   "metadata": {},
   "outputs": [
    {
     "data": {
      "text/plain": [
       "[1]"
      ]
     },
     "execution_count": 8,
     "metadata": {},
     "output_type": "execute_result"
    }
   ],
   "source": [
    "BEST"
   ]
  },
  {
   "cell_type": "code",
   "execution_count": 10,
   "id": "adverse-frontier",
   "metadata": {},
   "outputs": [],
   "source": [
    "import sys"
   ]
  },
  {
   "cell_type": "code",
   "execution_count": null,
   "id": "racial-solomon",
   "metadata": {},
   "outputs": [],
   "source": []
  }
 ],
 "metadata": {
  "kernelspec": {
   "display_name": "venv",
   "language": "python",
   "name": "venv"
  },
  "language_info": {
   "codemirror_mode": {
    "name": "ipython",
    "version": 3
   },
   "file_extension": ".py",
   "mimetype": "text/x-python",
   "name": "python",
   "nbconvert_exporter": "python",
   "pygments_lexer": "ipython3",
   "version": "3.6.6"
  }
 },
 "nbformat": 4,
 "nbformat_minor": 5
}
